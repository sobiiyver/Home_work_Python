{
 "cells": [
  {
   "cell_type": "code",
   "execution_count": 8,
   "id": "8bb05d77-0efd-43c9-82a5-5d3340860992",
   "metadata": {
    "tags": []
   },
   "outputs": [
    {
     "name": "stdout",
     "output_type": "stream",
     "text": [
      "[['Date', 'Profit/Losses'], ['Jan-2010', '867884'], ['Feb-2010', '984655'], ['Mar-2010', '322013'], ['Apr-2010', '-69417'], ['May-2010', '310503'], ['Jun-2010', '522857'], ['Jul-2010', '1033096'], ['Aug-2010', '604885'], ['Sep-2010', '-216386'], ['Oct-2010', '477532'], ['Nov-2010', '893810'], ['Dec-2010', '-80353'], ['Jan-2011', '779806'], ['Feb-2011', '-335203'], ['Mar-2011', '697845'], ['Apr-2011', '793163'], ['May-2011', '485070'], ['Jun-2011', '584122'], ['Jul-2011', '62729'], ['Aug-2011', '668179'], ['Sep-2011', '899906'], ['Oct-2011', '834719'], ['Nov-2011', '132003'], ['Dec-2011', '309978'], ['Jan-2012', '-755566'], ['Feb-2012', '1170593'], ['Mar-2012', '252788'], ['Apr-2012', '1151518'], ['May-2012', '817256'], ['Jun-2012', '570757'], ['Jul-2012', '506702'], ['Aug-2012', '-1022534'], ['Sep-2012', '475062'], ['Oct-2012', '779976'], ['Nov-2012', '144175'], ['Dec-2012', '542494'], ['Jan-2013', '359333'], ['Feb-2013', '321469'], ['Mar-2013', '67780'], ['Apr-2013', '471435'], ['May-2013', '565603'], ['Jun-2013', '872480'], ['Jul-2013', '789480'], ['Aug-2013', '999942'], ['Sep-2013', '-1196225'], ['Oct-2013', '268997'], ['Nov-2013', '-687986'], ['Dec-2013', '1150461'], ['Jan-2014', '682458'], ['Feb-2014', '617856'], ['Mar-2014', '824098'], ['Apr-2014', '581943'], ['May-2014', '132864'], ['Jun-2014', '448062'], ['Jul-2014', '689161'], ['Aug-2014', '800701'], ['Sep-2014', '1166643'], ['Oct-2014', '947333'], ['Nov-2014', '578668'], ['Dec-2014', '988505'], ['Jan-2015', '1139715'], ['Feb-2015', '1029471'], ['Mar-2015', '687533'], ['Apr-2015', '-524626'], ['May-2015', '158620'], ['Jun-2015', '87795'], ['Jul-2015', '423389'], ['Aug-2015', '840723'], ['Sep-2015', '568529'], ['Oct-2015', '332067'], ['Nov-2015', '989499'], ['Dec-2015', '778237'], ['Jan-2016', '650000'], ['Feb-2016', '-1100387'], ['Mar-2016', '-174946'], ['Apr-2016', '757143'], ['May-2016', '445709'], ['Jun-2016', '712961'], ['Jul-2016', '-1163797'], ['Aug-2016', '569899'], ['Sep-2016', '768450'], ['Oct-2016', '102685'], ['Nov-2016', '795914'], ['Dec-2016', '60988'], ['Jan-2017', '138230'], ['Feb-2017', '671099']]\n"
     ]
    }
   ],
   "source": [
    "from pathlib import Path\n",
    "import csv\n",
    "csv_path = Path('../budget_data.csv')\n",
    "#input: file path #output: a list contains a records \n",
    "def read_csv(csv_path):\n",
    "    #load csv,convert into a list\n",
    "    with open(csv_path, 'r') as csv_file:\n",
    "        reader = csv.reader(csv_file, delimiter = ',')\n",
    "        record_list = list(reader)\n",
    "    return record_list\n",
    "\n",
    "var_list = read_csv(csv_path)\n",
    "The total number of months included in the dataset.print(var_list)"
   ]
  },
  {
   "cell_type": "code",
   "execution_count": 36,
   "id": "d9a71f86-e949-452c-9920-809dad795721",
   "metadata": {
    "tags": []
   },
   "outputs": [
    {
     "name": "stdout",
     "output_type": "stream",
     "text": [
      "Total Months: 86\n"
     ]
    }
   ],
   "source": [
    "    header_row = read_csv(csv_path)[1]\n",
    "    dataset = read_csv(csv_path)[1:]\n",
    "    no_of_months = len(dataset)\n",
    "\n",
    "print(f\"Total Months: {no_of_months}\")"
   ]
  },
  {
   "cell_type": "code",
   "execution_count": 84,
   "id": "cf073e2c-9773-4bf5-adba-f83bbe104d76",
   "metadata": {
    "tags": []
   },
   "outputs": [
    {
     "name": "stdout",
     "output_type": "stream",
     "text": [
      "profit: $38382579\n"
     ]
    }
   ],
   "source": [
    "#The net total amount of Profit/Losses over the entire period\n",
    "\n",
    "def profit_loss(csv_path):\n",
    "    total_p_and_l = 1\n",
    "    for data in csv_path:\n",
    "        p_and_l = int(data[1])\n",
    "        total_p_and_l += p_and_l\n",
    "    return total_p_and_l\n",
    "\n",
    "net_total_amount = profit_loss(dataset)\n",
    "\n",
    "if net_total_amount >= 0:\n",
    "    print(f'profit: ${net_total_amount}')\n",
    "else:\n",
    "    print(f'loss: ${net_total_amount}')"
   ]
  },
  {
   "cell_type": "code",
   "execution_count": 96,
   "id": "5504b24d-6fa7-40f5-aa99-36f674b377af",
   "metadata": {
    "tags": []
   },
   "outputs": [
    {
     "name": "stdout",
     "output_type": "stream",
     "text": [
      "Average Change: $-2315.12\n"
     ]
    }
   ],
   "source": [
    "def profit_and_losses(csv_path):\n",
    "    data_set_profit_and_losses_change = p_and_l_change(csv_path)\n",
    "    count = 0\n",
    "    cummulative_p_and_l = 0\n",
    "    for data in data_set_profit_and_losses_change:\n",
    "        count += 1\n",
    "        cummulative_p_and_l += data[1]\n",
    "    avg_change = cummulative_p_and_l / count\n",
    "    return round(avg_change,2)\n",
    "\n",
    "print(f\"Average Change: ${profit_and_losses(dataset)}\")"
   ]
  },
  {
   "cell_type": "code",
   "execution_count": 105,
   "id": "d2a99aa6-68e4-4da4-ad26-6f5e805e3707",
   "metadata": {
    "tags": []
   },
   "outputs": [
    {
     "name": "stdout",
     "output_type": "stream",
     "text": [
      "Greatest Increase in Profits: Feb-2012 ($1926159)\n",
      "Greatest Decrease in Profits: Sep-2013 ($-2196167)\n"
     ]
    }
   ],
   "source": [
    "def profit_and_losses(csv_path):\n",
    "    greatest_inc_profit = 0\n",
    "    greatest_dec_profit = 0\n",
    "for data in dataset_p_and_l_change:\n",
    "    if data[1] >= greatest_inc_profit:\n",
    "        greatest_inc_profit = data[1]\n",
    "        greatest_inc_profit_month = data[0]\n",
    "    elif data[1] <= greatest_dec_profit:\n",
    "        greatest_dec_profit = data[1]\n",
    "        greatest_dec_profit_month = data[0]\n",
    "\n",
    "print(f\"Greatest Increase in Profits: {greatest_inc_profit_month} (${greatest_inc_profit})\")\n",
    "\n",
    "print(f\"Greatest Decrease in Profits: {greatest_dec_profit_month} (${greatest_dec_profit})\")"
   ]
  },
  {
   "cell_type": "code",
   "execution_count": null,
   "id": "c5f14f68-32a7-4119-8524-e66ed7bf3e71",
   "metadata": {},
   "outputs": [],
   "source": []
  }
 ],
 "metadata": {
  "kernelspec": {
   "display_name": "Python 3 (ipykernel)",
   "language": "python",
   "name": "python3"
  },
  "language_info": {
   "codemirror_mode": {
    "name": "ipython",
    "version": 3
   },
   "file_extension": ".py",
   "mimetype": "text/x-python",
   "name": "python",
   "nbconvert_exporter": "python",
   "pygments_lexer": "ipython3",
   "version": "3.11.5"
  }
 },
 "nbformat": 4,
 "nbformat_minor": 5
}
